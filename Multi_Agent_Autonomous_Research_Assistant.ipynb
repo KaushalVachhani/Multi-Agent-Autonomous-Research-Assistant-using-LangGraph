{
  "cells": [
    {
      "cell_type": "code",
      "execution_count": 2,
      "metadata": {
        "colab": {
          "base_uri": "https://localhost:8080/"
        },
        "id": "54pCl2--SQnm",
        "outputId": "b6b6d722-f465-4093-cc2d-5b7855b66cdc"
      },
      "outputs": [],
      "source": [
        "# Uncomment the following line to install the required packages\n",
        "# if you haven't already done so.\n",
        "\n",
        "# pip install -r requirements.txt"
      ]
    },
    {
      "cell_type": "code",
      "execution_count": 3,
      "metadata": {
        "id": "_U0TQBVcT8lL"
      },
      "outputs": [
        {
          "name": "stderr",
          "output_type": "stream",
          "text": [
            "/Users/kaushalvachhani/Github-Repos/Multi-Agent-Autonomous-Research-Assistant-using-LangGraph/.venv/lib/python3.11/site-packages/tqdm/auto.py:21: TqdmWarning: IProgress not found. Please update jupyter and ipywidgets. See https://ipywidgets.readthedocs.io/en/stable/user_install.html\n",
            "  from .autonotebook import tqdm as notebook_tqdm\n"
          ]
        },
        {
          "data": {
            "text/plain": [
              "True"
            ]
          },
          "execution_count": 3,
          "metadata": {},
          "output_type": "execute_result"
        }
      ],
      "source": [
        "import concurrent.futures\n",
        "import json\n",
        "import operator\n",
        "from typing import Any, Dict, List, TypedDict, Annotated\n",
        "\n",
        "from dotenv import load_dotenv\n",
        "from IPython.display import display, Image, Markdown\n",
        "from langchain_community.document_loaders import ArxivLoader\n",
        "from langchain_community.tools import TavilySearchResults\n",
        "from langchain_groq import ChatGroq\n",
        "from langgraph.graph import StateGraph, START, END\n",
        "import gradio as gr\n",
        "from re import sub\n",
        "\n",
        "load_dotenv()"
      ]
    },
    {
      "cell_type": "code",
      "execution_count": 4,
      "metadata": {
        "id": "37DcJxc2wAT6"
      },
      "outputs": [],
      "source": [
        "model = ChatGroq(model=\"meta-llama/llama-4-scout-17b-16e-instruct\")\n",
        "\n",
        "class State(TypedDict):\n",
        "    user_query: str\n",
        "    metadata: dict\n",
        "    search_results: Annotated[str, operator.add]\n",
        "    summary: str\n",
        "    verification: dict\n",
        "    formatted_output: str\n",
        "    messages: List[str]"
      ]
    },
    {
      "cell_type": "code",
      "execution_count": null,
      "metadata": {
        "id": "d6Ilfkt6SVt3"
      },
      "outputs": [],
      "source": [
        "def query_understanding_agent(state: State) -> dict:\n",
        "    user_query = state[\"user_query\"]\n",
        "    prompt = (\n",
        "        f\"Extract the main topic and subtopics from the following research query:\\n\\n\"\n",
        "        f\"{user_query}\\n\\n\"\n",
        "        f\"Format your answer as JSON with keys: 'main_topic', 'subtopics'.\"\n",
        "        f\"Limit the number of subtopics to a maximum of 3\"\n",
        "        f\"Ensure each subtopic is crafted to comprehensively cover the main topic while also being meaningful and searchable on its own.\"\n",
        "        f\"Please exclude triple backticks (```) and avoid labeling the output as JSON. Just return the raw JSON data without any formatting or tags.\"\n",
        "    )\n",
        "    response = model.invoke(prompt)\n",
        "    try:\n",
        "        metadata = json.loads(response.content)\n",
        "    except json.JSONDecodeError:\n",
        "        metadata = {\"main_topic\": \"unknown\", \"subtopics\": []}\n",
        "    state[\"metadata\"] = metadata\n",
        "    return state"
      ]
    },
    {
      "cell_type": "code",
      "execution_count": 34,
      "metadata": {
        "id": "rKwueRm5Vt4c"
      },
      "outputs": [],
      "source": [
        "def search_web_query(query):\n",
        "\n",
        "    \"\"\" Retrieve docs from web search \"\"\"\n",
        "\n",
        "    # Search\n",
        "    tavily_search = TavilySearchResults(max_results=1) # reducing max_result to 1 to avoid rate limit\n",
        "    search_docs = tavily_search.invoke(query)\n",
        "\n",
        "     # Format\n",
        "    formatted_search_docs = \"\\n\\n---\\n\\n\".join(doc[\"content\"] for doc in search_docs)\n",
        "\n",
        "    return formatted_search_docs\n",
        "\n",
        "def search_arxiv_query(query):\n",
        "\n",
        "    \"\"\" Retrieve docs from Arxiv \"\"\"\n",
        "\n",
        "    # Search\n",
        "    search_docs = ArxivLoader(query=query,\n",
        "                                  load_max_docs=1).load()\n",
        "\n",
        "    # Format (Only pulling the summary of paper avoid rate limit)\n",
        "    formatted_search_docs = \"\\n\\n---\\n\\n\".join(doc.metadata[\"Summary\"] for doc in search_docs)\n",
        "\n",
        "    return formatted_search_docs\n",
        "\n",
        "def process_sub_topic(sub_topic, search_func):\n",
        "    # Each sub_topic processing is independent\n",
        "    result = f\"\\n\\n ## {sub_topic}:\\n\\n\" + search_func(sub_topic)\n",
        "    return result\n",
        "\n",
        "def search_web(state):\n",
        "    sub_topics = state['metadata'].get('subtopics', [])\n",
        "    with concurrent.futures.ThreadPoolExecutor() as executor:\n",
        "        futures = {executor.submit(process_sub_topic, sub_topic, search_web_query): sub_topic for sub_topic in sub_topics}\n",
        "        web_results = [future.result() for future in futures]\n",
        "    return {\"search_results\": \"\".join(web_results)}\n",
        "\n",
        "def search_arxiv(state):\n",
        "    sub_topics = state['metadata'].get('subtopics', [])\n",
        "    with concurrent.futures.ThreadPoolExecutor() as executor:\n",
        "        futures = {executor.submit(process_sub_topic, sub_topic, search_arxiv_query): sub_topic for sub_topic in sub_topics}\n",
        "        arxiv_results = [future.result() for future in futures]\n",
        "    return {\"search_results\": \"\".join(arxiv_results)}\n"
      ]
    },
    {
      "cell_type": "code",
      "execution_count": 35,
      "metadata": {
        "id": "NyEhsQJLbxZA"
      },
      "outputs": [],
      "source": [
        "def summarization_agent(state: State) -> dict:\n",
        "    search_results = state.get(\"search_results\", \"\")\n",
        "    verification = state.get(\"verification\", {})\n",
        "    notes = verification.get(\"notes\", \"\")\n",
        "    user_query = state[\"user_query\"]\n",
        "    previous_summary = state.get(\"summary\", \"\")\n",
        "\n",
        "    prompt = (\n",
        "    f\"Using the following research paper context, provide a very detailed analysis in response to the user's question with appropriate summary title.\\n\\n\"\n",
        "    f\"Context:\\n{search_results}\\n\\n\"\n",
        "    )\n",
        "\n",
        "    if notes.strip():\n",
        "        prompt += (\n",
        "        f\"Here is the previously generated summary to reflect upon:\\n{previous_summary}\\n\\n\"\n",
        "        f\"Refer to the improvement guidelines below based on your previous responses:\\n{notes}\\n\\n\"\n",
        "      )\n",
        "\n",
        "    prompt += f\"User Question:\\n{user_query}\"\n",
        "\n",
        "\n",
        "    response = model.invoke(prompt)\n",
        "\n",
        "    summary = response.content\n",
        "    state[\"summary\"] = summary\n",
        "    return state"
      ]
    },
    {
      "cell_type": "code",
      "execution_count": 36,
      "metadata": {
        "id": "b-f0oQV1k43b"
      },
      "outputs": [],
      "source": [
        "def fact_verification_agent(state: State) -> dict:\n",
        "    summary = state.get(\"summary\", \"\")\n",
        "    prompt = (\n",
        "        f\"Verify the factual correctness of the following summary. \"\n",
        "        f\"List any potential inaccuracies:\\n\\n\"\n",
        "        f\"{summary}\\n\\n\"\n",
        "        f\"Output your answer as JSON with keys 'verified' (True/False) and 'notes' (String).\"\n",
        "        f\"Please exclude triple backticks (```) and avoid labeling the output as JSON. Just return the raw JSON data without any formatting or tags.\"\n",
        "\n",
        "    )\n",
        "\n",
        "    response = model.invoke(prompt)\n",
        "    try:\n",
        "        verification = json.loads(response.content)\n",
        "    except json.JSONDecodeError:\n",
        "        verification = {\"verified\": True, \"notes\": \"No issues detected.\"}\n",
        "    state[\"verification\"] = verification\n",
        "    return state"
      ]
    },
    {
      "cell_type": "code",
      "execution_count": null,
      "metadata": {
        "id": "jPH661bNJnah"
      },
      "outputs": [],
      "source": [
        "def verification_critique_router(state: State) -> str:\n",
        "    verification = state.get(\"verification\", {})\n",
        "\n",
        "    # Determine next step based on verification status and critique notes\n",
        "    is_verified = verification.get(\"verified\", True)\n",
        "    notes = verification.get(\"notes\", \"\").strip()\n",
        "\n",
        "    if not is_verified or \"No issues detected\" not in notes:\n",
        "        return \"summarization\"  # Node to handle revisions based on critique\n",
        "    else:\n",
        "        return \"formatting_export\"  # Proceed to formatting and export"
      ]
    },
    {
      "cell_type": "code",
      "execution_count": 38,
      "metadata": {
        "id": "6UZVf38unbIE"
      },
      "outputs": [],
      "source": [
        "def formatting_export_agent(state: State) -> dict:\n",
        "    summary = state.get(\"summary\", \"\")\n",
        "    \n",
        "    prompt = (\n",
        "    f\"Please reformat the following summary into well-structured Markdown. \"\n",
        "    f\"Ensure the output is valid Markdown that can be rendered using display(Markdown(...)).\\n\\n\"\n",
        "    f\"{summary}\\n\\n\"\n",
        "    )\n",
        "\n",
        "    response = model.invoke(prompt)\n",
        "    state[\"formatted_output\"] = response.content\n",
        "    return state"
      ]
    },
    {
      "cell_type": "code",
      "execution_count": 46,
      "metadata": {
        "colab": {
          "base_uri": "https://localhost:8080/",
          "height": 647
        },
        "id": "RZvjZ-Bgn5bU",
        "outputId": "f5a8e51e-26dd-42d8-a41a-aca91be4e5b7"
      },
      "outputs": [],
      "source": [
        "def build_workflow():\n",
        "    # Initial state with a user query\n",
        "    # Define the initial state with required keys\n",
        "\n",
        "    workflow = StateGraph(State)\n",
        "\n",
        "    # Add nodes\n",
        "    workflow.add_node(\"query_understanding\", query_understanding_agent)\n",
        "    workflow.add_node(\"search_web\", search_web)\n",
        "    workflow.add_node(\"search_arxiv\", search_arxiv)\n",
        "    workflow.add_node(\"summarization\", summarization_agent)\n",
        "    workflow.add_node(\"fact_verification\", fact_verification_agent)\n",
        "    workflow.add_node(\"formatting_export\", formatting_export_agent)\n",
        "\n",
        "    # Define edges for parallel execution\n",
        "    workflow.add_edge(START, \"query_understanding\")\n",
        "    workflow.add_edge(\"query_understanding\", \"search_web\")\n",
        "    workflow.add_edge(\"query_understanding\", \"search_arxiv\")\n",
        "    workflow.add_edge(\"search_web\", \"summarization\")\n",
        "    workflow.add_edge(\"search_arxiv\", \"summarization\")\n",
        "    workflow.add_edge(\"summarization\", \"fact_verification\")\n",
        "    workflow.add_conditional_edges(\n",
        "      source=\"fact_verification\",\n",
        "      path=verification_critique_router,\n",
        "      path_map={\n",
        "          \"summarization\": \"summarization\",\n",
        "          \"formatting_export\": \"formatting_export\"\n",
        "      }\n",
        "    )\n",
        "    workflow.add_edge(\"formatting_export\", END)\n",
        "\n",
        "    return workflow\n"
      ]
    },
    {
      "cell_type": "code",
      "execution_count": null,
      "metadata": {
        "colab": {
          "base_uri": "https://localhost:8080/",
          "height": 329
        },
        "id": "WtzAlhp-o5js",
        "outputId": "f8329939-d8d0-45dd-e4ce-6b7878054054"
      },
      "outputs": [
        {
          "data": {
            "image/png": "[encoded data removed]",
            "text/plain": [
              "<IPython.core.display.Image object>"
            ]
          },
          "metadata": {},
          "output_type": "display_data"
        }
      ],
      "source": [
        "if __name__ == \"__main__\":\n",
        "    # Example of a initial state\n",
        "    initial_state: State = {\n",
        "        \"user_query\": \"Future of LLMOPs\",\n",
        "        \"metadata\": {},          # To be filled by Query Understanding Agent\n",
        "        \"search_results\": \"\",    # To be filled by Search & Retrieval Agent\n",
        "        \"summary\": \"\",           # To be filled by Summarization Agent\n",
        "        \"verification\": {},      # To be filled by Fact Verification Agent\n",
        "        \"formatted_output\": \"\",  # To be filled by Formatting/Export Agent\n",
        "        \"messages\": []           # Optionally, track conversation history\n",
        "    }\n",
        "\n",
        "\n",
        "    # Build and execute the workflow\n",
        "    workflow = build_workflow()\n",
        "    graph = workflow.compile()\n",
        "    display(Image(graph.get_graph().draw_mermaid_png()))\n",
        "    results = graph.invoke(initial_state)"
      ]
    },
    {
      "cell_type": "code",
      "execution_count": 41,
      "metadata": {
        "colab": {
          "base_uri": "https://localhost:8080/",
          "height": 743
        },
        "id": "bNd9KELirUDK",
        "outputId": "e0e9ce25-c73d-4505-ab7b-9ccd6a4f39b7"
      },
      "outputs": [
        {
          "data": {
            "text/markdown": [
              "# The Future of Large Language Models in Operations (LLMOPs): Trends, Challenges, and Opportunities\n",
              "\n",
              "The rapid evolution of Large Language Models (LLMs) is transforming the landscape of software engineering, operations, and artificial intelligence. As we look ahead to the future of LLMOPs, it is essential to analyze the current trends, challenges, and opportunities in this field.\n",
              "\n",
              "## Current Trends\n",
              "\n",
              "The following are the current trends in LLMOPs:\n",
              "\n",
              "1. **Increased Adoption**: LLMs are becoming increasingly popular in software engineering, with applications in software design, automated programming, and maintenance.\n",
              "2. **Advancements in Deep Learning**: The development of more sophisticated deep learning algorithms and massive amounts of data are driving the improvement of LLMs.\n",
              "3. **Growing Focus on Efficiency and Sustainability**: The field is shifting towards more efficient and sustainable LLMs, with a critical focus on performance improvements.\n",
              "\n",
              "## Challenges\n",
              "\n",
              "The following are the challenges in LLMOPs:\n",
              "\n",
              "1. **Evaluating Pragmatic Abilities**: Assessing the ability of LLMs to handle pragmatic phenomena, such as implicatures and references, remains a significant challenge.\n",
              "2. **Software Requirement & Design**: LLMs face challenges in understanding software requirements and design, which can lead to errors and inefficiencies.\n",
              "3. **Coding Assistance and Testing**: LLMs require improvement in coding assistance and testing, including code generation, review, and maintenance.\n",
              "4. **Software Vulnerability Management**: LLMs must be able to identify and manage software vulnerabilities effectively.\n",
              "5. **Data, Training, and Evaluation**: The development of comprehensive and targeted benchmarks for evaluating LLMs is crucial.\n",
              "\n",
              "## Opportunities\n",
              "\n",
              "The following are the opportunities in LLMOPs:\n",
              "\n",
              "1. **Improved Software Development**: LLMs have the potential to significantly reduce human effort in software development activities, such as coding, testing, and maintenance.\n",
              "2. **Enhanced Decision-Making**: LLMs can assist in decision-making by providing insights and recommendations based on large datasets.\n",
              "3. **Increased Efficiency**: LLMs can automate routine tasks, freeing up human resources for more complex and creative tasks.\n",
              "4. **Better Software Quality**: LLMs can improve software quality by detecting errors and vulnerabilities early in the development process.\n",
              "\n",
              "## Emerging Trends\n",
              "\n",
              "The following are the emerging trends in LLMOPs:\n",
              "\n",
              "1. **Integration with Other AI Technologies**: LLMs will likely be integrated with other AI technologies, such as computer vision and natural language processing.\n",
              "2. **Explainability and Transparency**: There will be a growing need for explainable and transparent LLMs, enabling users to understand the decision-making process.\n",
              "3. **Edge AI**: LLMs will be deployed on edge devices, enabling real-time processing and reducing latency.\n",
              "\n",
              "## Future Directions\n",
              "\n",
              "The following are the future directions in LLMOPs:\n",
              "\n",
              "1. **Developing More Comprehensive Benchmarks**: Creating more comprehensive and targeted benchmarks for evaluating LLMs is essential for advancing the field.\n",
              "2. **Improving Pragmatic Abilities**: Developing LLMs with improved pragmatic abilities will enable more nuanced and context-aware NLP models.\n",
              "3. **Addressing Challenges and Risks**: Addressing the challenges and risks associated with LLMs, such as bias, fairness, and security, is crucial for widespread adoption.\n",
              "\n",
              "## Conclusion\n",
              "\n",
              "In conclusion, the future of LLMOPs holds significant promise, with opportunities for improved software development, enhanced decision-making, and increased efficiency. However, addressing the challenges and risks associated with LLMs is essential for realizing their full potential. As the field continues to evolve, we can expect to see major breakthroughs in technical innovations, market dynamics, and emerging trends."
            ],
            "text/plain": [
              "<IPython.core.display.Markdown object>"
            ]
          },
          "metadata": {},
          "output_type": "display_data"
        }
      ],
      "source": [
        "display(Markdown(results[\"formatted_output\"]))"
      ]
    },
    {
      "cell_type": "code",
      "execution_count": 51,
      "metadata": {
        "colab": {
          "base_uri": "https://localhost:8080/",
          "height": 648
        },
        "id": "FcvOK-DZMsjq",
        "outputId": "aaa33592-6b1a-4fac-d3c0-66df8b341eee"
      },
      "outputs": [
        {
          "name": "stdout",
          "output_type": "stream",
          "text": [
            "* Running on local URL:  http://127.0.0.1:7865\n",
            "\n",
            "To create a public link, set `share=True` in `launch()`.\n"
          ]
        },
        {
          "data": {
            "text/html": [
              "<div><iframe src=\"http://127.0.0.1:7865/\" width=\"100%\" height=\"500\" allow=\"autoplay; camera; microphone; clipboard-read; clipboard-write;\" frameborder=\"0\" allowfullscreen></iframe></div>"
            ],
            "text/plain": [
              "<IPython.core.display.HTML object>"
            ]
          },
          "metadata": {},
          "output_type": "display_data"
        },
        {
          "data": {
            "text/plain": []
          },
          "execution_count": 51,
          "metadata": {},
          "output_type": "execute_result"
        }
      ],
      "source": [
        "import gradio as gr\n",
        "\n",
        "def display_markdown(text):\n",
        "    initial_state: State = {\n",
        "        \"user_query\": text,\n",
        "        \"metadata\": {},          # To be filled by Query Understanding Agent\n",
        "        \"search_results\": \"\",    # To be filled by Search & Retrieval Agent\n",
        "        \"summary\": \"\",           # To be filled by Summarization Agent\n",
        "        \"verification\": {},      # To be filled by Fact Verification Agent\n",
        "        \"formatted_output\": \"\",  # To be filled by Formatting/Export Agent\n",
        "        \"messages\": []           # Optionally, track conversation history\n",
        "    }\n",
        "    return graph.invoke(initial_state)[\"formatted_output\"]  # Markdown will render formatting automatically\n",
        "\n",
        "with gr.Blocks() as demo:\n",
        "    gr.Markdown(\"# Multi-agent Research Assistant\")\n",
        "    \n",
        "    with gr.Row():\n",
        "        with gr.Column(scale=1):\n",
        "            input_text = gr.Textbox(\n",
        "                label=\"Enter a research query\", \n",
        "                placeholder=\"e.g. 'llm security risks'\", \n",
        "                lines=2\n",
        "            )\n",
        "            submit_btn = gr.Button(\"Submit\")\n",
        "        with gr.Column(scale=3):\n",
        "            output_md = gr.Markdown()\n",
        "\n",
        "    submit_btn.click(display_markdown, inputs=input_text, outputs=output_md)\n",
        "\n",
        "demo.launch()"
      ]
    },
    {
      "cell_type": "code",
      "execution_count": null,
      "metadata": {
        "id": "q8XwVPquTR8W"
      },
      "outputs": [],
      "source": []
    }
  ],
  "metadata": {
    "colab": {
      "provenance": []
    },
    "kernelspec": {
      "display_name": ".venv",
      "language": "python",
      "name": "python3"
    },
    "language_info": {
      "codemirror_mode": {
        "name": "ipython",
        "version": 3
      },
      "file_extension": ".py",
      "mimetype": "text/x-python",
      "name": "python",
      "nbconvert_exporter": "python",
      "pygments_lexer": "ipython3",
      "version": "3.11.9"
    }
  },
  "nbformat": 4,
  "nbformat_minor": 0
}
